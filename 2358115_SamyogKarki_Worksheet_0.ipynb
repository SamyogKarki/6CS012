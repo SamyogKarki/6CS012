{
  "nbformat": 4,
  "nbformat_minor": 0,
  "metadata": {
    "colab": {
      "provenance": []
    },
    "kernelspec": {
      "name": "python3",
      "display_name": "Python 3"
    },
    "language_info": {
      "name": "python"
    }
  },
  "cells": [
    {
      "cell_type": "markdown",
      "source": [
        "**4.1 Exercise on Functions:**"
      ],
      "metadata": {
        "id": "R9O4eI_RR1w0"
      }
    },
    {
      "cell_type": "markdown",
      "source": [
        "Task - 1:\n",
        "Create a Python program that converts between different units of measurement. • The program should:\n",
        "1. Prompt the user to choose the type of conversion (e.g., length, weight, volume). 2. Ask the user to input the value to be converted.\n",
        "3. Perform the conversion and display the result.\n",
        "4. Handle potential errors, such as invalid input or unsupported conversion types. • Requirements:\n",
        "1. Functions: Define at least one function to perform the conversion.\n",
        "2. Error Handling: Use try-except blocks to handle invalid input (e.g., non-numeric values). 3. User Input: Prompt the user to select the conversion type and input the value.\n",
        "4. Docstrings: Include a docstring in your function to describe its purpose, parameters, and return value.\n",
        "• Conversion Options:\n",
        "1. Length:\n",
        "– Convert meters (m) to feet (ft).\n",
        "– Convert feet (ft) to meters (m).\n",
        "2. Weight:\n",
        "– Convert kilograms (kg) to pounds (lbs).\n",
        "– Convert pounds (lbs) to kilograms (kg).\n",
        "3. Volume:\n",
        "– Convert liters (L) to gallons (gal).\n",
        "– Convert gallons (gal) to liters (L).\n"
      ],
      "metadata": {
        "id": "OyuX6OaNSMKv"
      }
    },
    {
      "cell_type": "code",
      "execution_count": null,
      "metadata": {
        "id": "elge3DqZ12Te",
        "colab": {
          "base_uri": "https://localhost:8080/"
        },
        "outputId": "36139e2d-4e34-409e-edb7-96f6b2461b09"
      },
      "outputs": [
        {
          "output_type": "stream",
          "name": "stdout",
          "text": [
            "Python program that converts between different units of measurement.\n",
            "Press  1  for length \n",
            " Press 2 for weight \n",
            " Press 3 for VOlume\n",
            "\n",
            "Enter (1, 2, 3) or 'q' to quit : 1\n",
            "\n",
            "Length Conversion: \n",
            " 1. Meters to Feet \n",
            " 2. Feet to Meters\n",
            "\n",
            "Enter (1, 2) or 'q' to quit : 1\n",
            "Convert meters (m) to feet (ft) : \n",
            "Input meters (m) : 5\n",
            "Converted Value from meeter to feet 16.4042ft\n",
            "\n",
            "Enter (1, 2, 3) or 'q' to quit : q\n",
            "Thank You for using the program.\n"
          ]
        }
      ],
      "source": [
        "print(\"Python program that converts between different units of measurement.\")\n",
        "print(\"Press  1  for length \\n Press 2 for weight \\n Press 3 for VOlume\")\n",
        "\n",
        "\n",
        "def meters_to_feet():\n",
        "  print(\"Convert meters (m) to feet (ft) : \")\n",
        "  y = float(input(\"Input meters (m) : \"))\n",
        "  x = y * 3.28084;\n",
        "  print(\"Converted Value from meeter to feet \" + str(x) + \"ft\")\n",
        "\n",
        "def feet_to_meters():\n",
        "  print(\"Convert feet (ft) to meters (m) : \")\n",
        "  y = float(input(\"Input feet (ft) : \"))\n",
        "  x = y / 3.28084;\n",
        "  print(\"Converted Value from feet to meters \" + str(x) + \"m\")\n",
        "\n",
        "def kg_to_pounds():\n",
        "  print(\"Convert kilograms (kg) to pounds (lbs) : \")\n",
        "  y = float(input(\"Input kilograms (kg) : \"))\n",
        "  x = y * 2.20462;\n",
        "  print(\"Converted Value from kg to pounds \" + str(x) + \"lbs\")\n",
        "\n",
        "def pounds_to_kg():\n",
        "  print(\"Convert pounds (lbs) to kilograms (kg) : \")\n",
        "  y = float(input(\"Input pounds (lbs) : \"))\n",
        "  x = y / 2.20462;\n",
        "  print(\"Converted Value from pounds to kg \" + str(x) + \"kg\")\n",
        "\n",
        "def liters_to_gallons():\n",
        "  print(\"Convert liters (L) to gallons (gal) : \")\n",
        "  y = float(input(\"Input liters (L) : \"))\n",
        "  x = y * 0.264172;\n",
        "  print(\"Converted Value from liters to gallons \" + str(x) + \"gal\")\n",
        "\n",
        "def gallons_to_liters():\n",
        "  print(\"Convert gallons (gal) to liters (L) : \")\n",
        "  y = float(input(\"Input gallons (gal) : \"))\n",
        "  x = y / 0.264172;\n",
        "  print(\"Converted Value from gallons to liters \" + str(x) + \"L\")\n",
        "\n",
        "def main():\n",
        "  while True:\n",
        "    choice = input(\"\\nEnter (1, 2, 3) or 'q' to quit : \")\n",
        "    if choice == '1':\n",
        "      print(\"\\nLength Conversion: \\n 1. Meters to Feet \\n 2. Feet to Meters\")\n",
        "      choice = input(\"\\nEnter (1, 2) or 'q' to quit : \")\n",
        "      if choice == '1':\n",
        "        meters_to_feet()\n",
        "      elif choice == '2':\n",
        "        feet_to_meters()\n",
        "      elif choice == 'q':\n",
        "        break\n",
        "      else:\n",
        "        print(\"Invalid choice\")\n",
        "\n",
        "    elif choice == '2':\n",
        "      print(\"\\nWeight Conversion: \\n 1. Kilograms to Pounds \\n 2. Pounds to Kilograms\")\n",
        "      choice = input(\"\\nEnter (1, 2) or 'q' to quit : \")\n",
        "      if choice == '1':\n",
        "        kg_to_pounds()\n",
        "      elif choice == '2':\n",
        "        pounds_to_kg()\n",
        "      elif choice == 'q':\n",
        "        break\n",
        "      else :\n",
        "        print(\"Invalid choice\")\n",
        "\n",
        "    elif choice == '3':\n",
        "      print(\"\\nVolume Conversion: \\n 1. Liters to Gallons \\n 2. Gallons to Liters\")\n",
        "      choice = input(\"\\nEnter (1, 2) or 'q' to quit : \")\n",
        "      if choice == '1':\n",
        "        liters_to_gallons()\n",
        "      elif choice == '2':\n",
        "        gallons_to_liters()\n",
        "      elif choice == 'q':\n",
        "        break\n",
        "      else :\n",
        "        print(\"Invalid choice\")\n",
        "\n",
        "    elif choice == 'q':\n",
        "      print(\"Thank You for using the program.\")\n",
        "      break\n",
        "    else:\n",
        "      print(\"Invalid choice\")\n",
        "\n",
        "\n",
        "if __name__ == \"__main__\":\n",
        "    main()\n",
        "\n"
      ]
    },
    {
      "cell_type": "markdown",
      "source": [
        "Task - 2:\n",
        "Create a Python program that performs various mathematical operations on a list of numbers. • The Program should:\n",
        "1. Prompt the user to choose an operation (e.g., find the sum, average, maximum, or minimum of the numbers).\n",
        "2. Ask the user to input a list of numbers (separated by spaces).\n"
      ],
      "metadata": {
        "id": "KifoCH0MADMX"
      }
    },
    {
      "cell_type": "code",
      "source": [
        "print(\"Python program that performs various mathematical operations on a list of numbers.\")\n",
        "print(\"\\n Press  1  for sum \\n Press 2 for average \\n Press 3 for maximum \\n Press 4 for minimum\")\n",
        "\n",
        "def sum_numbers(numbers):\n",
        "  total = 0\n",
        "  for number in numbers:\n",
        "    total += number\n",
        "  return total\n",
        "\n",
        "def average(numbers):\n",
        "  total = sum_numbers(numbers)\n",
        "  count = len(numbers)\n",
        "  avg = total / count\n",
        "  return avg\n",
        "\n",
        "def maximum(numbers):\n",
        "  max_value = numbers[0]\n",
        "  for number in numbers:\n",
        "    if number > max_value:\n",
        "      max_value = number\n",
        "  return max_value\n",
        "\n",
        "def minimum(numbers):\n",
        "  min_value = numbers[0]\n",
        "  for number in numbers:\n",
        "    if number < min_value:\n",
        "      min_value = number\n",
        "  return min_value\n",
        "\n",
        "def main():\n",
        "  while True:\n",
        "    choice = input(\"\\nEnter (1, 2, 3, 4) or 'q' to quit : \")\n",
        "\n",
        "    if choice == '1':\n",
        "      numbers = input(\"Enter a list of numbers separated by spaces: \").split()\n",
        "      numbers = [float(number) for number in numbers]\n",
        "      result = sum_numbers(numbers)\n",
        "      print(\"The sum of the numbers is:\", result)\n",
        "    elif choice == '2':\n",
        "      numbers = input(\"Enter a list of numbers separated by spaces: \").split()\n",
        "      numbers = [float(number) for number in numbers]\n",
        "      result = average(numbers)\n",
        "      print(\"The average of the numbers is:\", result)\n",
        "    elif choice == '3':\n",
        "      numbers = input(\"Enter a list of numbers separated by spaces: \").split()\n",
        "      numbers = [float(number) for number in numbers]\n",
        "      result = maximum(numbers)\n",
        "      print(\"The maximum of the numbers is:\", result)\n",
        "    elif choice == '4':\n",
        "      numbers = input(\"Enter a list of numbers separated by spaces: \").split()\n",
        "      numbers = [float(number) for number in numbers]\n",
        "      result = minimum(numbers)\n",
        "      print(\"The minimum of the numbers is:\", result)\n",
        "    elif choice == 'q':\n",
        "      print(\"Thank You for using the program.\")\n",
        "      break\n",
        "    else:\n",
        "      print(\"Invalid choice\")\n",
        "\n",
        "if __name__ == \"__main__\":\n",
        "    main()\n"
      ],
      "metadata": {
        "id": "3uH2z9Y4AIWz",
        "outputId": "c6ae2cbf-4c3d-4aac-8922-5b4479f214fa",
        "colab": {
          "base_uri": "https://localhost:8080/"
        }
      },
      "execution_count": null,
      "outputs": [
        {
          "output_type": "stream",
          "name": "stdout",
          "text": [
            "Python program that performs various mathematical operations on a list of numbers.\n",
            "\n",
            " Press  1  for sum \n",
            " Press 2 for average \n",
            " Press 3 for maximum \n",
            " Press 4 for minimum\n",
            "The sum of the numbers is: 15.0\n",
            "\n",
            "Enter (1, 2, 3, 4) or 'q' to quit : q\n",
            "Thank You for using the program.\n"
          ]
        }
      ]
    },
    {
      "cell_type": "markdown",
      "source": [
        "**4.2 Exercise on List Manipulation:**"
      ],
      "metadata": {
        "id": "qKGmf0EOADcG"
      }
    },
    {
      "cell_type": "markdown",
      "source": [
        "1. Extract Every Other Element:\n",
        "Write a Python function that extracts every other element from a list, starting from the first element. • Requirements:\n",
        "– Define a function extract every other(lst) that takes a list lst as input and returns a new list containing every other element from the original list.\n",
        "– Example: For the input [1, 2, 3, 4, 5, 6], the output should be [1, 3, 5].\n"
      ],
      "metadata": {
        "id": "nPXj4hcKR1ah"
      }
    },
    {
      "cell_type": "code",
      "source": [
        "print(\"Extract Every Other Element\")\n",
        "\n",
        "numbers = input(\"Enter a list of numbers separated by spaces: \").split()\n",
        "numbers = [float(number) for number in numbers]\n",
        "result = list(numbers[::2])\n",
        "print(\"The every other element is:\", result)\n"
      ],
      "metadata": {
        "id": "-Ag_sOJCrCBd",
        "colab": {
          "base_uri": "https://localhost:8080/"
        },
        "outputId": "700db22f-341f-4105-fbcf-f4a7fe439d84"
      },
      "execution_count": null,
      "outputs": [
        {
          "output_type": "stream",
          "name": "stdout",
          "text": [
            "Extract Every Other Element\n",
            "Enter a list of numbers separated by spaces: 1 2 3 4 5 6 \n",
            "The sum of the numbers is: [1.0, 3.0, 5.0]\n"
          ]
        }
      ]
    },
    {
      "cell_type": "markdown",
      "source": [
        "2. Slice a Sublist:\n",
        "Write a Python function that returns a sublist from a given list, starting from a specified index and ending at another specified index.\n",
        "• Requirements:\n",
        "– Define a function get sublist(lst, start, end) that takes a list lst, a starting index start, and an ending index end as input and returns the sublist from start to end (inclusive).\n",
        "– Example: For the input [1, 2, 3, 4, 5, 6] with start=2 and end=4, the output should be [3, 4, 5].\n"
      ],
      "metadata": {
        "id": "oyHpWd9INwHP"
      }
    },
    {
      "cell_type": "code",
      "source": [
        "\n",
        "print(\"Python function that returns a sublist from a given list, starting from a specified index and ending at another specified index.\")\n",
        "numbers = input(\"Enter a list of numbers separated by spaces: \").split()\n",
        "numbers = [float(number) for number in numbers]\n",
        "start = int(input(\"Enter the start index: \"))\n",
        "end = int(input(\"Enter the end index: \"))\n",
        "\n",
        "\n",
        "result = numbers[start:end]\n",
        "print(\"Sublist : \", result)"
      ],
      "metadata": {
        "id": "sbMP3vFxNsr_",
        "colab": {
          "base_uri": "https://localhost:8080/"
        },
        "outputId": "86c518f3-8bad-44d0-9577-2a987864ad33"
      },
      "execution_count": null,
      "outputs": [
        {
          "output_type": "stream",
          "name": "stdout",
          "text": [
            "Python function that returns a sublist from a given list, starting from a specified index and ending at another specified index.\n",
            "Enter a list of numbers separated by spaces: 1 2 3 4 5 6 \n",
            "Enter the start index: 0\n",
            "Enter the end index: 3\n",
            "Sublist :  [1.0, 2.0, 3.0]\n"
          ]
        }
      ]
    },
    {
      "cell_type": "markdown",
      "source": [
        "3. Reverse a List Using Slicing:\n",
        "Write a Python function that reverses a list using slicing.\n",
        "• Requirements:\n",
        "– Define a function reverse list(lst) that takes a list lst and returns a reversed list using slicing.\n",
        "– Example: For the input [1, 2, 3, 4, 5], the output should be [5, 4, 3, 2, 1].\n"
      ],
      "metadata": {
        "id": "-YcL6Xm5blLt"
      }
    },
    {
      "cell_type": "code",
      "source": [
        "print(\" Python function that reverses a list using slicing.  \")\n",
        "numbers = input(\"Enter a list of numbers separated by spaces: \").split()\n",
        "numbers = [float(number) for number in numbers]\n",
        "original_list = numbers\n",
        "reversed_list = original_list[::-1]\n",
        "print(\"Original List : \", original_list)\n",
        "print(\"Reversed List : \", reversed_list)"
      ],
      "metadata": {
        "id": "gyrCZEZWaDaE",
        "colab": {
          "base_uri": "https://localhost:8080/"
        },
        "outputId": "d4f83788-48e5-49c4-e587-dd97a2f3a226"
      },
      "execution_count": null,
      "outputs": [
        {
          "output_type": "stream",
          "name": "stdout",
          "text": [
            " Python function that reverses a list using slicing.  \n",
            "Enter a list of numbers separated by spaces: 1 2 3 4 5 6\n",
            "Original List :  [1.0, 2.0, 3.0, 4.0, 5.0, 6.0]\n",
            "Reversed List :  [6.0, 5.0, 4.0, 3.0, 2.0, 1.0]\n"
          ]
        }
      ]
    },
    {
      "cell_type": "markdown",
      "source": [
        "4. Remove the First and Last Elements:\n",
        "Write a Python function that removes the first and last elements of a list and returns the resulting sublist.\n",
        "• Requirements:\n",
        "– Define a function remove first last(lst) that takes a list lst and returns a sublist without the first and last elements using slicing.\n",
        "– Example: For the input [1, 2, 3, 4, 5], the output should be [2, 3, 4].\n"
      ],
      "metadata": {
        "id": "1bthFEXNl8dd"
      }
    },
    {
      "cell_type": "code",
      "source": [
        "print(\" Python function that removes the first and last elements of a list and returns the resulting sublist. \")\n",
        "numbers = input(\"Enter a list of numbers separated by spaces: \").split()\n",
        "numbers = [float(number) for number in numbers]\n",
        "original_list = numbers\n",
        "removed_list = original_list[1:-1]\n",
        "print(\"Removed List : \", removed_list)"
      ],
      "metadata": {
        "id": "eaGcEe18l9lf",
        "colab": {
          "base_uri": "https://localhost:8080/"
        },
        "outputId": "dcf27ac8-8af4-41da-e455-8c84db647d57"
      },
      "execution_count": null,
      "outputs": [
        {
          "output_type": "stream",
          "name": "stdout",
          "text": [
            " Python function that removes the first and last elements of a list and returns the resulting sublist. \n",
            "Enter a list of numbers separated by spaces: 1 2 3 4 5 6\n",
            "Removed List :  [2.0, 3.0, 4.0, 5.0]\n"
          ]
        }
      ]
    },
    {
      "cell_type": "markdown",
      "source": [
        "5. Get the First n Elements:\n",
        "Write a Python function that extracts the first n elements from a list.\n",
        "• Requirements:\n",
        "– Define a function get first n(lst, n) that takes a list lst and an integer n as input and returns the first n elements of the list using slicing.\n",
        "– Example: For the input [1, 2, 3, 4, 5] with n=3, the output should be [1, 2, 3].\n"
      ],
      "metadata": {
        "id": "KrhoDZnjrojo"
      }
    },
    {
      "cell_type": "code",
      "source": [
        "print(\" Python function that extracts the first n elements from a list\")\n",
        "numbers = input(\"Enter a list of numbers separated by spaces: \").split()\n",
        "numbers = [float(number) for number in numbers]\n",
        "original_list = numbers\n",
        "n = int(input(\"Enter the value of n element: \"))\n",
        "\n",
        "slice_element = original_list[:n]\n",
        "print(\"first n elements of the list using slicing. \", slice_element)"
      ],
      "metadata": {
        "id": "rMxY2W26rlvh",
        "colab": {
          "base_uri": "https://localhost:8080/"
        },
        "outputId": "bceea09d-cba8-49e0-f239-ca55fed89f10"
      },
      "execution_count": null,
      "outputs": [
        {
          "output_type": "stream",
          "name": "stdout",
          "text": [
            " Python function that extracts the first n elements from a list\n",
            "Enter a list of numbers separated by spaces: 1 2 3 4 5 6\n",
            "Enter the value of n element: 2\n",
            "first n elements of the list using slicing.  [1.0, 2.0]\n"
          ]
        }
      ]
    },
    {
      "cell_type": "markdown",
      "source": [
        "6. Count Occurrences of an Element in a Nested List:\n",
        "Write a Python function that counts how many times a specific element appears in a nested list. • Requirements:\n",
        "– Define a function count occurrences(lst, elem) that counts the occurrences of elem in the nested list lst.\n",
        "– Example: For the input lst = [[1, 2], [2, 3], [2, 4]] and elem = 2, the output should be 3.\n"
      ],
      "metadata": {
        "id": "2FjT6Za7TNBf"
      }
    },
    {
      "cell_type": "code",
      "source": [
        "L = [[1, 2], [2, 3], [2, 4]]\n",
        "sum(x.count(2) for x in L)\n"
      ],
      "metadata": {
        "id": "DtmzsFGSX13a",
        "colab": {
          "base_uri": "https://localhost:8080/"
        },
        "outputId": "c4e837d2-2f02-43ff-f8c2-a70d88854b2d"
      },
      "execution_count": null,
      "outputs": [
        {
          "output_type": "execute_result",
          "data": {
            "text/plain": [
              "3"
            ]
          },
          "metadata": {},
          "execution_count": 8
        }
      ]
    },
    {
      "cell_type": "markdown",
      "source": [
        "7. Flatten a List of Lists of Lists:\n",
        "Write a Python function that flattens a list of lists of lists into a single list, regardless of the depth. • Requirements:\n",
        "– Define a function deep flatten(lst) that takes a deeply nested list lst and returns a single flattened list.\n",
        "– Example: For the input [[[1, 2], [3, 4]], [[5, 6], [7, 8]]], the output should be [1, 2, 3, 4, 5, 6, 7, 8].\n"
      ],
      "metadata": {
        "id": "X-TLGbywYUYp"
      }
    },
    {
      "cell_type": "code",
      "source": [
        "from more_itertools import collapse\n",
        "\n",
        "list_of_lists_2 = [[1, 2], [[3, 4]], [5, [6, 7]]]\n",
        "flattened_list_of_lists_2 = list(collapse(list_of_lists_2))\n",
        "print(flattened_list_of_lists_2)"
      ],
      "metadata": {
        "id": "clRlIblsYVcU",
        "colab": {
          "base_uri": "https://localhost:8080/"
        },
        "outputId": "a873f239-d53d-4073-d945-e4fb5de8f58e"
      },
      "execution_count": null,
      "outputs": [
        {
          "output_type": "stream",
          "name": "stdout",
          "text": [
            "[1, 2, 3, 4, 5, 6, 7]\n"
          ]
        }
      ]
    },
    {
      "cell_type": "markdown",
      "source": [
        "**4.3 Exercise on Nested List:**"
      ],
      "metadata": {
        "id": "ATYh5OrCMrV9"
      }
    },
    {
      "cell_type": "markdown",
      "source": [
        "1. Flatten a Nested List:\n",
        "Write a Python function that takes a nested list and flattens it into a single list, where all the elements are in a single dimension.\n",
        "• Requirements:\n",
        "– Define a function flatten(lst) that takes a nested list lst and returns a flattened version of the list.\n",
        "– Example: For the input [[1, 2], [3, 4], [5]], the output should be [1, 2, 3, 4, 5].\n"
      ],
      "metadata": {
        "id": "htxvibHDMv3k"
      }
    },
    {
      "cell_type": "code",
      "source": [
        "from more_itertools import collapse\n",
        "\n",
        "list_of_lists_2 = [[1, 2], [3, 4], [5]]\n",
        "flattened_list_of_lists_2 = list(collapse(list_of_lists_2))\n",
        "print(flattened_list_of_lists_2)"
      ],
      "metadata": {
        "id": "amA6uyy-MzdT",
        "colab": {
          "base_uri": "https://localhost:8080/"
        },
        "outputId": "dcf0bec4-f603-4ca8-a0de-4c3c607662a3"
      },
      "execution_count": null,
      "outputs": [
        {
          "output_type": "stream",
          "name": "stdout",
          "text": [
            "[1, 2, 3, 4, 5]\n"
          ]
        }
      ]
    },
    {
      "cell_type": "markdown",
      "source": [
        "2. Accessing Nested List Elements:\n",
        "Write a Python function that extracts a specific element from a nested list given its indices. • Requirements:\n",
        "– Define a function access nested element(lst, indices) that takes a nested list lst and a list of indices indices, and returns the element at that position.\n",
        "– Example: For the input lst = [[1, 2, 3], [4, 5, 6], [7, 8, 9]] with indices = [1, 2], the output should be 6.\n"
      ],
      "metadata": {
        "id": "PGCEjt8_NdpL"
      }
    },
    {
      "cell_type": "code",
      "source": [
        "print(\"Write a Python function that extracts a specific element from a nested list given its indices.\")\n",
        "def access_nested_element(lst, indices):\n",
        "    element = lst\n",
        "    for index in indices:\n",
        "        element = element[index]\n",
        "    return element\n",
        "\n",
        "nested_list = [\n",
        "    [1, 2, [3, 4]],\n",
        "    [5, [6, 7], 8],\n",
        "    [9, 10]\n",
        "]\n",
        "indices = [0, 1]\n",
        "result = access_nested_element(nested_list, indices)\n",
        "print(result)"
      ],
      "metadata": {
        "id": "gROHn_ZIMLdg",
        "colab": {
          "base_uri": "https://localhost:8080/"
        },
        "outputId": "62b3e402-f976-4163-aedb-77ecf43d5ad6"
      },
      "execution_count": null,
      "outputs": [
        {
          "output_type": "stream",
          "name": "stdout",
          "text": [
            "Write a Python function that extracts a specific element from a nested list given its indices.\n",
            "2\n"
          ]
        }
      ]
    },
    {
      "cell_type": "markdown",
      "source": [
        "3. Sum of All Elements in a Nested List:\n",
        "Write a Python function that calculates the sum of all the numbers in a nested list (regardless of depth). • Requirements:\n",
        "– Define a function sum nested(lst) that takes a nested list lst and returns the sum of all the elements.\n",
        "– Example: For the input [[1, 2], [3, [4, 5]], 6], the output should be 21.\n"
      ],
      "metadata": {
        "id": "SQOY_ka0gf_o"
      }
    },
    {
      "cell_type": "code",
      "source": [
        "from more_itertools import collapse\n",
        "\n",
        "print(\"Python function that calculates the sum of all the numbers in a nested list (regardless of depth).\")\n",
        "\n",
        "def sum_nested(lst):\n",
        "    return sum(collapse(lst))\n",
        "\n",
        "nested_list = [[1, 2], [3, [4, 5]], 6]\n",
        "result = sum_nested(nested_list)\n",
        "print(\"Sum of the nested list : \",result)\n"
      ],
      "metadata": {
        "id": "jEAfrxGtgk3K",
        "colab": {
          "base_uri": "https://localhost:8080/"
        },
        "outputId": "3452a293-224c-4793-92f5-b4b02dda8302"
      },
      "execution_count": null,
      "outputs": [
        {
          "output_type": "stream",
          "name": "stdout",
          "text": [
            "Python function that calculates the sum of all the numbers in a nested list (regardless of depth).\n",
            "Sum of the nested list :  21\n"
          ]
        }
      ]
    },
    {
      "cell_type": "markdown",
      "source": [
        "4. Remove Specific Element from a Nested List:\n",
        "Write a Python function that removes all occurrences of a specific element from a nested list. • Requirements:\n",
        "– Define a function remove element(lst, elem) that removes elem from lst and returns the modified list.\n",
        "– Example: For the input lst = [[1, 2], [3, 2], [4, 5]] and elem = 2, the output should be [[1], [3], [4, 5]].\n"
      ],
      "metadata": {
        "id": "SCfPs-LSjOEh"
      }
    },
    {
      "cell_type": "code",
      "source": [
        "list = []\n",
        "list_data = [[1, 2], [3, 2], [4, 5]]\n",
        "list.append(list_data)\n",
        "\n",
        "for sublist in list[0]:\n",
        "    if 2 in sublist:\n",
        "        sublist.remove(2)\n",
        "\n",
        "print(list)\n"
      ],
      "metadata": {
        "colab": {
          "base_uri": "https://localhost:8080/"
        },
        "id": "6xjgJvJe1Egr",
        "outputId": "371d1af1-bcc8-42fc-9f13-cb6827d552ce"
      },
      "execution_count": null,
      "outputs": [
        {
          "output_type": "stream",
          "name": "stdout",
          "text": [
            "[[[1], [3], [4, 5]]]\n"
          ]
        }
      ]
    },
    {
      "cell_type": "markdown",
      "source": [
        ". Find the Maximum Element in a Nested List:\n",
        " Write a Python function that finds the maximum element in a nested list (regardless of depth).\n",
        " • Requirements:– Define a function find\n",
        " element.\n",
        " max(lst) that takes a nested list lst and returns the maximum– Example: For the input [[1, 2], [3, [4, 5]], 6], the output should be 6"
      ],
      "metadata": {
        "id": "7XEkvsGD1Qpw"
      }
    },
    {
      "cell_type": "code",
      "source": [
        "def flatten(lst):\n",
        "  flat_list = []\n",
        "  for item in lst:\n",
        "    if type(item) == list:\n",
        "      flat_list.extend(flatten(item))\n",
        "    else:\n",
        "      flat_list.append(item)\n",
        "  return flat_list\n",
        "\n",
        "nested_list = [[[1, 2], [3, 4]], [[5, 6], [7, 8]]]\n",
        "flat_list = flatten(nested_list)\n",
        "print(flat_list)\n",
        "maximum_list = max(flat_list)\n",
        "print(\"Maximum from the nested list : \", maximum_list)\n"
      ],
      "metadata": {
        "colab": {
          "base_uri": "https://localhost:8080/"
        },
        "id": "lo_Yy2ET8GC1",
        "outputId": "c2a5788a-de1e-48f4-feed-70b651366a99"
      },
      "execution_count": null,
      "outputs": [
        {
          "output_type": "stream",
          "name": "stdout",
          "text": [
            "[[[1, 2], [3, 4]], [[5, 6], [7, 8]]]\n",
            "Maximum from the nested list :  [[5, 6], [7, 8]]\n"
          ]
        }
      ]
    },
    {
      "cell_type": "markdown",
      "source": [
        " 6. Count Occurrences of an Element in a Nested List:\n",
        " Write a Python function that counts how many times a specific element appears in a nested list.\n",
        " • Requirements:– Define a function count\n",
        " occurrences(lst, elem) that counts the occurrences of elem in\n",
        " the nested list lst.– Example: Fortheinput lst = [[1, 2], [2, 3], [2, 4]]andelem = 2,theoutputshould\n",
        " be 3."
      ],
      "metadata": {
        "id": "AcEdqFvU8owt"
      }
    },
    {
      "cell_type": "code",
      "source": [
        "from re import search\n",
        "print(\"Write a Python function that counts how many times a specific element appears in a nested list.\")\n",
        "\n",
        "nested_list = [[1, 2], [2, 3], [2, 4]]\n",
        "search_element = 2\n",
        "\n",
        "count = sum([(search_element in sublist) for sublist in nested_list])\n",
        "print(count)"
      ],
      "metadata": {
        "colab": {
          "base_uri": "https://localhost:8080/"
        },
        "id": "0U2sUa-y85Rb",
        "outputId": "62d5f56a-3754-4cfa-ad23-84841a457729"
      },
      "execution_count": null,
      "outputs": [
        {
          "output_type": "stream",
          "name": "stdout",
          "text": [
            "Write a Python function that counts how many times a specific element appears in a nested list.\n",
            "3\n"
          ]
        }
      ]
    },
    {
      "cell_type": "markdown",
      "source": [
        " 7. Flatten a List of Lists of Lists:\n",
        " Write a Python function that flattens a list of lists of lists into a single list, regardless of the depth.\n",
        " • Requirements:– Define a function deep\n",
        " flatten(lst) that takes a deeply nested list lst and returns a single\n",
        " f\n",
        " lattened list.– Example: For the input [[[1, 2], [3, 4]], [[5, 6], [7, 8]]], the output should be\n",
        " [1, 2, 3, 4, 5, 6, 7, 8]"
      ],
      "metadata": {
        "id": "nEdxRrxj_WYw"
      }
    },
    {
      "cell_type": "code",
      "source": [
        "def flatten(lst):\n",
        "  flat_list = []\n",
        "  for item in lst:\n",
        "    if type(item) == list:\n",
        "      flat_list.extend(flatten(item))\n",
        "    else:\n",
        "      flat_list.append(item)\n",
        "  return flat_list\n",
        "\n",
        "nested_list = [[[1, 2], [3, 4]], [[5, 6], [7, 8]]]\n",
        "flat_list = flatten(nested_list)\n",
        "print(\" flattens a list of lists of lists into a single list : \", flat_list)"
      ],
      "metadata": {
        "colab": {
          "base_uri": "https://localhost:8080/"
        },
        "id": "Izb3_fHf_Tlb",
        "outputId": "2cdfb20b-abe4-4d9f-a1d5-e5ca40f23be8"
      },
      "execution_count": null,
      "outputs": [
        {
          "output_type": "stream",
          "name": "stdout",
          "text": [
            " flattens a list of lists of lists into a single list :  [[[1, 2], [3, 4]], [[5, 6], [7, 8]]]\n"
          ]
        }
      ]
    },
    {
      "cell_type": "markdown",
      "source": [
        " 8. Nested List Average:\n",
        "\n",
        " Write a Python function that calculates the average of all elements in a nested list.\n",
        "\n",
        " • Requirements:– Define a function average\n",
        " of all the elements.\n",
        "\n",
        " nested(lst) that takes a nested list lst and returns the average– Exam"
      ],
      "metadata": {
        "id": "R62BeM9AYydY"
      }
    },
    {
      "cell_type": "code",
      "source": [
        "def flatten(lst):\n",
        "  flat_list = []\n",
        "  for item in lst:\n",
        "    if type(item) == list:\n",
        "      flat_list.extend(flatten(item))\n",
        "    else:\n",
        "      flat_list.append(item)\n",
        "  return flat_list\n",
        "\n",
        "def average(lst):\n",
        " return sum(lst) / len(lst)\n",
        "\n",
        "nested_list = [[1, 2], [3, 4], [5, 6]]\n",
        "flat_list = flatten(nested_list)\n",
        "print(\"Average of the nested list : \", average(flat_list))"
      ],
      "metadata": {
        "colab": {
          "base_uri": "https://localhost:8080/",
          "height": 297
        },
        "id": "aObYJTX7YzTw",
        "outputId": "a91d5446-f952-472a-b631-4037cfdde2af"
      },
      "execution_count": null,
      "outputs": [
        {
          "output_type": "error",
          "ename": "TypeError",
          "evalue": "unsupported operand type(s) for +: 'int' and 'list'",
          "traceback": [
            "\u001b[0;31m---------------------------------------------------------------------------\u001b[0m",
            "\u001b[0;31mTypeError\u001b[0m                                 Traceback (most recent call last)",
            "\u001b[0;32m<ipython-input-26-c6c1f211dae5>\u001b[0m in \u001b[0;36m<cell line: 0>\u001b[0;34m()\u001b[0m\n\u001b[1;32m     13\u001b[0m \u001b[0mnested_list\u001b[0m \u001b[0;34m=\u001b[0m \u001b[0;34m[\u001b[0m\u001b[0;34m[\u001b[0m\u001b[0;36m1\u001b[0m\u001b[0;34m,\u001b[0m \u001b[0;36m2\u001b[0m\u001b[0;34m]\u001b[0m\u001b[0;34m,\u001b[0m \u001b[0;34m[\u001b[0m\u001b[0;36m3\u001b[0m\u001b[0;34m,\u001b[0m \u001b[0;36m4\u001b[0m\u001b[0;34m]\u001b[0m\u001b[0;34m,\u001b[0m \u001b[0;34m[\u001b[0m\u001b[0;36m5\u001b[0m\u001b[0;34m,\u001b[0m \u001b[0;36m6\u001b[0m\u001b[0;34m]\u001b[0m\u001b[0;34m]\u001b[0m\u001b[0;34m\u001b[0m\u001b[0;34m\u001b[0m\u001b[0m\n\u001b[1;32m     14\u001b[0m \u001b[0mflat_list\u001b[0m \u001b[0;34m=\u001b[0m \u001b[0mflatten\u001b[0m\u001b[0;34m(\u001b[0m\u001b[0mnested_list\u001b[0m\u001b[0;34m)\u001b[0m\u001b[0;34m\u001b[0m\u001b[0;34m\u001b[0m\u001b[0m\n\u001b[0;32m---> 15\u001b[0;31m \u001b[0mprint\u001b[0m\u001b[0;34m(\u001b[0m\u001b[0;34m\"Average of the nested list : \"\u001b[0m\u001b[0;34m,\u001b[0m \u001b[0maverage\u001b[0m\u001b[0;34m(\u001b[0m\u001b[0mflat_list\u001b[0m\u001b[0;34m)\u001b[0m\u001b[0;34m)\u001b[0m\u001b[0;34m\u001b[0m\u001b[0;34m\u001b[0m\u001b[0m\n\u001b[0m",
            "\u001b[0;32m<ipython-input-26-c6c1f211dae5>\u001b[0m in \u001b[0;36maverage\u001b[0;34m(lst)\u001b[0m\n\u001b[1;32m      9\u001b[0m \u001b[0;34m\u001b[0m\u001b[0m\n\u001b[1;32m     10\u001b[0m \u001b[0;32mdef\u001b[0m \u001b[0maverage\u001b[0m\u001b[0;34m(\u001b[0m\u001b[0mlst\u001b[0m\u001b[0;34m)\u001b[0m\u001b[0;34m:\u001b[0m\u001b[0;34m\u001b[0m\u001b[0;34m\u001b[0m\u001b[0m\n\u001b[0;32m---> 11\u001b[0;31m  \u001b[0;32mreturn\u001b[0m \u001b[0msum\u001b[0m\u001b[0;34m(\u001b[0m\u001b[0mlst\u001b[0m\u001b[0;34m)\u001b[0m \u001b[0;34m/\u001b[0m \u001b[0mlen\u001b[0m\u001b[0;34m(\u001b[0m\u001b[0mlst\u001b[0m\u001b[0;34m)\u001b[0m\u001b[0;34m\u001b[0m\u001b[0;34m\u001b[0m\u001b[0m\n\u001b[0m\u001b[1;32m     12\u001b[0m \u001b[0;34m\u001b[0m\u001b[0m\n\u001b[1;32m     13\u001b[0m \u001b[0mnested_list\u001b[0m \u001b[0;34m=\u001b[0m \u001b[0;34m[\u001b[0m\u001b[0;34m[\u001b[0m\u001b[0;36m1\u001b[0m\u001b[0;34m,\u001b[0m \u001b[0;36m2\u001b[0m\u001b[0;34m]\u001b[0m\u001b[0;34m,\u001b[0m \u001b[0;34m[\u001b[0m\u001b[0;36m3\u001b[0m\u001b[0;34m,\u001b[0m \u001b[0;36m4\u001b[0m\u001b[0;34m]\u001b[0m\u001b[0;34m,\u001b[0m \u001b[0;34m[\u001b[0m\u001b[0;36m5\u001b[0m\u001b[0;34m,\u001b[0m \u001b[0;36m6\u001b[0m\u001b[0;34m]\u001b[0m\u001b[0;34m]\u001b[0m\u001b[0;34m\u001b[0m\u001b[0;34m\u001b[0m\u001b[0m\n",
            "\u001b[0;31mTypeError\u001b[0m: unsupported operand type(s) for +: 'int' and 'list'"
          ]
        }
      ]
    },
    {
      "cell_type": "markdown",
      "source": [],
      "metadata": {
        "id": "EN-DIOqzJtZp"
      }
    },
    {
      "cell_type": "markdown",
      "source": [],
      "metadata": {
        "id": "-1HHS0zEJuQF"
      }
    },
    {
      "cell_type": "markdown",
      "source": [
        "**NumPy**"
      ],
      "metadata": {
        "id": "pdhuXqkkJuWU"
      }
    },
    {
      "cell_type": "markdown",
      "source": [
        "10.1 Basic Vector and Matrix Operation with Numpy.\n",
        " Problem- 1: Array Creation:\n",
        " Complete the following Tasks:\n",
        " 1. Initialize an empty array with size 2X2.\n"
      ],
      "metadata": {
        "id": "ZnnQJF_QJ0P2"
      }
    },
    {
      "cell_type": "code",
      "source": [
        "import numpy as np\n",
        "empty_array = np.empty((2, 2))\n",
        "print(empty_array)\n",
        "print(empty_array.shape)"
      ],
      "metadata": {
        "colab": {
          "base_uri": "https://localhost:8080/"
        },
        "id": "n5wsTA6UJzAm",
        "outputId": "d7bf15b2-f5d0-42a0-ce36-d68339188db4"
      },
      "execution_count": null,
      "outputs": [
        {
          "output_type": "stream",
          "name": "stdout",
          "text": [
            "[[2.71660236e-316 0.00000000e+000]\n",
            " [4.96947877e-091 5.85698235e+170]]\n",
            "(2, 2)\n"
          ]
        }
      ]
    },
    {
      "cell_type": "markdown",
      "source": [
        " 2. Initialize an all one array with size 4X2.\n"
      ],
      "metadata": {
        "id": "7aFxNB7tK6le"
      }
    },
    {
      "cell_type": "code",
      "source": [
        "import numpy as np\n",
        "ones_array = np.ones((4, 2))\n",
        "print(ones_array)\n",
        "print(ones_array.shape)\n",
        "\n"
      ],
      "metadata": {
        "colab": {
          "base_uri": "https://localhost:8080/"
        },
        "id": "zhRB4wKjK4Nc",
        "outputId": "57ee01c5-89fc-41fa-8e47-3432afca974c"
      },
      "execution_count": null,
      "outputs": [
        {
          "output_type": "stream",
          "name": "stdout",
          "text": [
            "[[1. 1.]\n",
            " [1. 1.]\n",
            " [1. 1.]\n",
            " [1. 1.]]\n",
            "(4, 2)\n"
          ]
        }
      ]
    },
    {
      "cell_type": "markdown",
      "source": [
        " 3. Return a new array of given shape and type, filled with fill value.{Hint: np.full}"
      ],
      "metadata": {
        "id": "hgkkCCIOLQoF"
      }
    },
    {
      "cell_type": "code",
      "source": [
        "import numpy as np\n",
        "ones_array = np.ones((4, 2))\n",
        "# print(ones_array)\n",
        "print(np.full(ones_array.shape, 5))\n"
      ],
      "metadata": {
        "colab": {
          "base_uri": "https://localhost:8080/"
        },
        "id": "xnZQTL_TLRTw",
        "outputId": "3676fc87-6b14-42d8-c253-253095201f38"
      },
      "execution_count": null,
      "outputs": [
        {
          "output_type": "stream",
          "name": "stdout",
          "text": [
            "[[5 5]\n",
            " [5 5]\n",
            " [5 5]\n",
            " [5 5]]\n"
          ]
        }
      ]
    },
    {
      "cell_type": "markdown",
      "source": [
        "\n",
        " 4. Return a new array of zeros with same shape and type as a given array.{Hint: np.zeros like}"
      ],
      "metadata": {
        "id": "KVc9iza6pQ0d"
      }
    },
    {
      "cell_type": "code",
      "source": [
        "import numpy as np\n",
        "ones_array = np.ones((4, 2))\n",
        "print(np.zeros(ones_array.shape))"
      ],
      "metadata": {
        "colab": {
          "base_uri": "https://localhost:8080/"
        },
        "id": "TqYoh9-_pV_6",
        "outputId": "2e655e04-a66a-4745-c18c-1d59b6672f3e"
      },
      "execution_count": null,
      "outputs": [
        {
          "output_type": "stream",
          "name": "stdout",
          "text": [
            "[[0. 0.]\n",
            " [0. 0.]\n",
            " [0. 0.]\n",
            " [0. 0.]]\n"
          ]
        }
      ]
    },
    {
      "cell_type": "markdown",
      "source": [
        " 5. Return a new array of ones with same shape and type as a given array.{Hint: np.ones like}"
      ],
      "metadata": {
        "id": "BxUEOgL5qlTs"
      }
    },
    {
      "cell_type": "code",
      "source": [
        "import numpy as np\n",
        "ones_array = np.ones((4, 2))\n",
        "print(np.ones_like(ones_array.shape))"
      ],
      "metadata": {
        "colab": {
          "base_uri": "https://localhost:8080/"
        },
        "id": "4nnaalDxqp2i",
        "outputId": "707b2b08-0ec8-4aa4-8f64-9bb7033cc02e"
      },
      "execution_count": null,
      "outputs": [
        {
          "output_type": "stream",
          "name": "stdout",
          "text": [
            "[1 1]\n"
          ]
        }
      ]
    },
    {
      "cell_type": "markdown",
      "source": [
        "\n",
        "\n",
        " 6. For an existing list new_list = [1,2,3,4] convert to an numpy array.{Hint: np.array()}"
      ],
      "metadata": {
        "id": "v6kefmeuJ9sW"
      }
    },
    {
      "cell_type": "code",
      "source": [
        "import numpy as np\n",
        "new_list = [1,2,3,4]\n",
        "print(type(np.array(new_list)))"
      ],
      "metadata": {
        "id": "pgtWXEqAKlpq",
        "colab": {
          "base_uri": "https://localhost:8080/"
        },
        "outputId": "cd4fea0a-9a53-44a7-c108-6c07468261ac"
      },
      "execution_count": null,
      "outputs": [
        {
          "output_type": "stream",
          "name": "stdout",
          "text": [
            "<class 'numpy.ndarray'>\n"
          ]
        }
      ]
    },
    {
      "cell_type": "markdown",
      "source": [],
      "metadata": {
        "id": "BT5eclslsHhZ"
      }
    },
    {
      "cell_type": "markdown",
      "source": [
        "Problem- 2: Array Manipulation: Numerical Ranges and Array indexing:\n",
        " Complete the following tasks:"
      ],
      "metadata": {
        "id": "kY6d2a0MsPLx"
      }
    },
    {
      "cell_type": "markdown",
      "source": [
        " 1. Create an array with values ranging from 10 to 49. {Hint:np.arrange()}.\n"
      ],
      "metadata": {
        "id": "an-3J8jasRyJ"
      }
    },
    {
      "cell_type": "code",
      "source": [
        "import numpy as np\n",
        "array = np.arange(10, 49)\n",
        "print(array)"
      ],
      "metadata": {
        "colab": {
          "base_uri": "https://localhost:8080/"
        },
        "id": "hLoO4pXSsXCh",
        "outputId": "472a615a-873b-4843-cf99-f69e92b7e4a5"
      },
      "execution_count": null,
      "outputs": [
        {
          "output_type": "stream",
          "name": "stdout",
          "text": [
            "[10 11 12 13 14 15 16 17 18 19 20 21 22 23 24 25 26 27 28 29 30 31 32 33\n",
            " 34 35 36 37 38 39 40 41 42 43 44 45 46 47 48]\n"
          ]
        }
      ]
    },
    {
      "cell_type": "markdown",
      "source": [
        "\n",
        " 2. Create a 3X3 matrix with values ranging from 0 to 8.\n",
        " {Hint:look for np.reshape()}"
      ],
      "metadata": {
        "id": "cHyLCXrisllq"
      }
    },
    {
      "cell_type": "code",
      "source": [
        "import numpy as np\n",
        "array = np.arange(9)\n",
        "matrix = array.reshape(3, 3)\n",
        "print(matrix)"
      ],
      "metadata": {
        "colab": {
          "base_uri": "https://localhost:8080/"
        },
        "id": "IlXU4-SNsn-h",
        "outputId": "a9b6972f-bd68-46f0-d204-4bac38b36983"
      },
      "execution_count": null,
      "outputs": [
        {
          "output_type": "stream",
          "name": "stdout",
          "text": [
            "[[0 1 2]\n",
            " [3 4 5]\n",
            " [6 7 8]]\n"
          ]
        }
      ]
    },
    {
      "cell_type": "markdown",
      "source": [
        " 3. Create a 3X3 identity matrix.{Hint:np.eye()}\n"
      ],
      "metadata": {
        "id": "azmmhEw7s6rg"
      }
    },
    {
      "cell_type": "code",
      "source": [
        "import numpy as np\n",
        "matrix = np.eye(3)\n",
        "print(matrix)"
      ],
      "metadata": {
        "colab": {
          "base_uri": "https://localhost:8080/"
        },
        "id": "zk_lm0jWs54J",
        "outputId": "1b1e56a2-a9f1-4634-8a8d-24a4d2a48e43"
      },
      "execution_count": null,
      "outputs": [
        {
          "output_type": "stream",
          "name": "stdout",
          "text": [
            "[[1. 0. 0.]\n",
            " [0. 1. 0.]\n",
            " [0. 0. 1.]]\n"
          ]
        }
      ]
    },
    {
      "cell_type": "markdown",
      "source": [
        " 4. Create a random array of size 30 and find the mean of the array.\n",
        "\n",
        "---\n",
        "\n",
        "\n",
        " {Hint:check for np.random.random() and array.mean() function}"
      ],
      "metadata": {
        "id": "30TOE1ZNtWZZ"
      }
    },
    {
      "cell_type": "code",
      "source": [
        "import numpy as np\n",
        "array = np.random.random(30)\n",
        "print(array.mean())"
      ],
      "metadata": {
        "colab": {
          "base_uri": "https://localhost:8080/"
        },
        "id": "yjOI19xMtECt",
        "outputId": "096de17a-33eb-44a4-f37d-e53b3ea29d9c"
      },
      "execution_count": null,
      "outputs": [
        {
          "output_type": "stream",
          "name": "stdout",
          "text": [
            "0.46038078007381866\n"
          ]
        }
      ]
    },
    {
      "cell_type": "markdown",
      "source": [
        "\n",
        " 5. Create a 10X10 array with random values and find the minimum and maximum values."
      ],
      "metadata": {
        "id": "6Rin1jJtttYw"
      }
    },
    {
      "cell_type": "code",
      "source": [
        "import numpy as np\n",
        "array = np.random.random((10, 10))\n",
        "print(array.min())\n",
        "print(array.max())"
      ],
      "metadata": {
        "colab": {
          "base_uri": "https://localhost:8080/"
        },
        "id": "VWaXEmlQtzd5",
        "outputId": "d4f7b89f-44fd-432d-811d-22641eacf09d"
      },
      "execution_count": null,
      "outputs": [
        {
          "output_type": "stream",
          "name": "stdout",
          "text": [
            "0.0007700276922620874\n",
            "0.9973669232121923\n"
          ]
        }
      ]
    },
    {
      "cell_type": "markdown",
      "source": [
        " 6. Create a zero array of size 10 and replace 5th element with 1.\n"
      ],
      "metadata": {
        "id": "RqybBNYxx7Ao"
      }
    },
    {
      "cell_type": "code",
      "source": [
        "import numpy as np\n",
        "array = np.zeros(10)\n",
        "array[4] = 1\n",
        "print(array)"
      ],
      "metadata": {
        "colab": {
          "base_uri": "https://localhost:8080/"
        },
        "id": "Btn_LSRPx_Px",
        "outputId": "ea21abdd-50d6-4d62-dd0e-07e2fcb9871c"
      },
      "execution_count": null,
      "outputs": [
        {
          "output_type": "stream",
          "name": "stdout",
          "text": [
            "[0. 0. 0. 0. 1. 0. 0. 0. 0. 0.]\n"
          ]
        }
      ]
    },
    {
      "cell_type": "markdown",
      "source": [
        " 7. Reverse an array arr = [1,2,0,0,4,0].\n"
      ],
      "metadata": {
        "id": "zW5XqBwnylj5"
      }
    },
    {
      "cell_type": "code",
      "source": [
        "import numpy as np\n",
        "array = np.array( [1,2,0,0,4,0])\n",
        "reverse = array[::-1]\n",
        "print(reverse)"
      ],
      "metadata": {
        "colab": {
          "base_uri": "https://localhost:8080/"
        },
        "id": "_pdR9GXUyM5O",
        "outputId": "635b2242-ecd8-4113-ec4e-75d13d6310a5"
      },
      "execution_count": null,
      "outputs": [
        {
          "output_type": "stream",
          "name": "stdout",
          "text": [
            "[0 4 0 0 2 1]\n"
          ]
        }
      ]
    },
    {
      "cell_type": "markdown",
      "source": [
        " 8. Create a 2d array with 1 on border and 0 inside.\n"
      ],
      "metadata": {
        "id": "yk6FDq4fyodZ"
      }
    },
    {
      "cell_type": "code",
      "source": [
        "import numpy as np\n",
        "array = np.ones((5, 5))\n",
        "array[1:-1, 1:-1] = 0  #RC\n",
        "print(array)"
      ],
      "metadata": {
        "colab": {
          "base_uri": "https://localhost:8080/"
        },
        "id": "Cp0Ug30cyde4",
        "outputId": "7aee193b-125d-4aad-ee26-e93dd9dd4ce3"
      },
      "execution_count": null,
      "outputs": [
        {
          "output_type": "stream",
          "name": "stdout",
          "text": [
            "[[1. 1. 1. 1. 1.]\n",
            " [1. 0. 0. 0. 1.]\n",
            " [1. 0. 0. 0. 1.]\n",
            " [1. 0. 0. 0. 1.]\n",
            " [1. 1. 1. 1. 1.]]\n"
          ]
        }
      ]
    },
    {
      "cell_type": "markdown",
      "source": [
        "\n",
        ".\n",
        " 9. Create a 8X8 matrix and fill it with a checkerboard pattern."
      ],
      "metadata": {
        "id": "wOJpzA67sAxj"
      }
    },
    {
      "cell_type": "markdown",
      "source": [
        " Problem- 3: Array Operations:\n",
        " For the following arrays:\n",
        " x = np.array([[1,2],[3,5]]) and y = np.array([[5,6],[7,8]]);\n",
        " v = np.array([9,10]) and w = np.array([11,12]);\n",
        " Complete all the task using numpy:\n",
        " 1. Add the two array.\n",
        " 2. Subtract the two array.\n",
        " 3. Multiply the array with any integers of your choice.\n",
        " 4. Find the square of each element of the array.\n",
        " 5. Find the dot product between: v(and)w ; x(and)v ; x(and)y.\n",
        " 6. Concatenate x(and)y along row and Concatenate v(and)w along column.\n",
        " {Hint:try np.concatenate() or np.vstack() functions.\n",
        " 7. Concatenate x(and)v; if you get an error, observe and explain why did you get the error?"
      ],
      "metadata": {
        "id": "v4O7c-492L-h"
      }
    },
    {
      "cell_type": "code",
      "source": [
        "import numpy as np\n",
        "checkerboard = np.ones((8, 8))\n",
        "checkerboard[1::2, ::2] = 0\n",
        "checkerboard[::2, 1::2] = 0\n",
        "print(checkerboard)"
      ],
      "metadata": {
        "colab": {
          "base_uri": "https://localhost:8080/"
        },
        "id": "SEZGyboXzQo4",
        "outputId": "733c32a2-a638-4337-ea14-2c383fa3cae8"
      },
      "execution_count": null,
      "outputs": [
        {
          "output_type": "stream",
          "name": "stdout",
          "text": [
            "[[1. 0. 1. 0. 1. 0. 1. 0.]\n",
            " [0. 1. 0. 1. 0. 1. 0. 1.]\n",
            " [1. 0. 1. 0. 1. 0. 1. 0.]\n",
            " [0. 1. 0. 1. 0. 1. 0. 1.]\n",
            " [1. 0. 1. 0. 1. 0. 1. 0.]\n",
            " [0. 1. 0. 1. 0. 1. 0. 1.]\n",
            " [1. 0. 1. 0. 1. 0. 1. 0.]\n",
            " [0. 1. 0. 1. 0. 1. 0. 1.]]\n"
          ]
        }
      ]
    },
    {
      "cell_type": "code",
      "source": [
        "import numpy as np\n",
        "x = np.array([[1,2],[3,5]])\n",
        "y = np.array([[5,6],[7,8]])\n",
        "v = np.array([9,10])\n",
        "w = np.array([11,12])\n",
        "\n",
        "add = x + y\n",
        "print(\"Add : \", add)\n",
        "\n",
        "subtract = x - y\n",
        "print(\"Subtract : \", subtract)\n",
        "\n",
        "\n",
        "multiply = x * y\n",
        "print(\"Multiply : \", multiply)\n",
        "\n",
        "dot_product = np.dot(v, w)\n",
        "print(\"Dot Product : \", dot_product)\n",
        "\n",
        "square_x = np.square(x)\n",
        "square_y = np.square(y)\n",
        "print(\"square_x : \", square_x)\n",
        "print(\"square_y : \", square_y)\n",
        "\n",
        "\n",
        "\n",
        "\n",
        "concatenate_along_row = np.concatenate((x, y), axis=0)\n",
        "print(\"Concatenate along row : \", concatenate_along_row)"
      ],
      "metadata": {
        "colab": {
          "base_uri": "https://localhost:8080/"
        },
        "id": "gCBfDp1x2OoY",
        "outputId": "2e060fbc-c498-41dd-fc34-0be0e9933cca"
      },
      "execution_count": null,
      "outputs": [
        {
          "output_type": "stream",
          "name": "stdout",
          "text": [
            "Add :  [[ 6  8]\n",
            " [10 13]]\n",
            "Subtract :  [[-4 -4]\n",
            " [-4 -3]]\n",
            "Multiply :  [[ 5 12]\n",
            " [21 40]]\n",
            "Dot Product :  219\n",
            "square_x :  [[ 1  4]\n",
            " [ 9 25]]\n",
            "square_y :  [[25 36]\n",
            " [49 64]]\n",
            "Concatenate along row :  [[1 2]\n",
            " [3 5]\n",
            " [5 6]\n",
            " [7 8]]\n"
          ]
        }
      ]
    },
    {
      "cell_type": "code",
      "source": [
        "concatenate_along_row = np.concatenate((x, v.reshape(1, -1)), axis=0) # Reshape v to have 2 dimensions before concatenation.\n",
        "print(\"Concatenate along row : \", concatenate_along_row)"
      ],
      "metadata": {
        "id": "0M3fv8Ie4xrx",
        "colab": {
          "base_uri": "https://localhost:8080/",
          "height": 158
        },
        "outputId": "69bbde6a-780b-40ed-e2b3-0fae86762d7d"
      },
      "execution_count": 63,
      "outputs": [
        {
          "output_type": "error",
          "ename": "ValueError",
          "evalue": "all the input arrays must have same number of dimensions, but the array at index 0 has 1 dimension(s) and the array at index 1 has 2 dimension(s)",
          "traceback": [
            "\u001b[0;31m---------------------------------------------------------------------------\u001b[0m",
            "\u001b[0;31mValueError\u001b[0m                                Traceback (most recent call last)",
            "\u001b[0;32m<ipython-input-63-ccdabfa945b3>\u001b[0m in \u001b[0;36m<cell line: 0>\u001b[0;34m()\u001b[0m\n\u001b[0;32m----> 1\u001b[0;31m \u001b[0mconcatenate_along_row\u001b[0m \u001b[0;34m=\u001b[0m \u001b[0mnp\u001b[0m\u001b[0;34m.\u001b[0m\u001b[0mconcatenate\u001b[0m\u001b[0;34m(\u001b[0m\u001b[0;34m(\u001b[0m\u001b[0mx\u001b[0m\u001b[0;34m,\u001b[0m \u001b[0mv\u001b[0m\u001b[0;34m.\u001b[0m\u001b[0mreshape\u001b[0m\u001b[0;34m(\u001b[0m\u001b[0;36m1\u001b[0m\u001b[0;34m,\u001b[0m \u001b[0;34m-\u001b[0m\u001b[0;36m1\u001b[0m\u001b[0;34m)\u001b[0m\u001b[0;34m)\u001b[0m\u001b[0;34m,\u001b[0m \u001b[0maxis\u001b[0m\u001b[0;34m=\u001b[0m\u001b[0;36m0\u001b[0m\u001b[0;34m)\u001b[0m \u001b[0;31m# Reshape v to have 2 dimensions before concatenation.\u001b[0m\u001b[0;34m\u001b[0m\u001b[0;34m\u001b[0m\u001b[0m\n\u001b[0m\u001b[1;32m      2\u001b[0m \u001b[0mprint\u001b[0m\u001b[0;34m(\u001b[0m\u001b[0;34m\"Concatenate along row : \"\u001b[0m\u001b[0;34m,\u001b[0m \u001b[0mconcatenate_along_row\u001b[0m\u001b[0;34m)\u001b[0m\u001b[0;34m\u001b[0m\u001b[0;34m\u001b[0m\u001b[0m\n",
            "\u001b[0;31mValueError\u001b[0m: all the input arrays must have same number of dimensions, but the array at index 0 has 1 dimension(s) and the array at index 1 has 2 dimension(s)"
          ]
        }
      ]
    },
    {
      "cell_type": "code",
      "source": [
        "print(x.shape)\n",
        "print(v.shape)"
      ],
      "metadata": {
        "colab": {
          "base_uri": "https://localhost:8080/"
        },
        "id": "fLs1_6xj3uHd",
        "outputId": "8207ff77-243f-4456-e652-97fd68feeee2"
      },
      "execution_count": null,
      "outputs": [
        {
          "output_type": "stream",
          "name": "stdout",
          "text": [
            "(2, 2)\n",
            "(2,)\n"
          ]
        }
      ]
    },
    {
      "cell_type": "code",
      "source": [
        "concatenate_along_row = np.concatenate((x, v.reshape(1, -1)), axis=0)\n",
        "print(\"Concatenate along row : \", concatenate_along_row)"
      ],
      "metadata": {
        "colab": {
          "base_uri": "https://localhost:8080/"
        },
        "id": "K9UenNIZ5Wp5",
        "outputId": "6525cf8c-4857-4703-8f60-e9d1723115a9"
      },
      "execution_count": null,
      "outputs": [
        {
          "output_type": "stream",
          "name": "stdout",
          "text": [
            "Concatenate along row :  [[ 1  2]\n",
            " [ 3  5]\n",
            " [ 9 10]]\n"
          ]
        }
      ]
    },
    {
      "cell_type": "markdown",
      "source": [],
      "metadata": {
        "id": "H7mx8u6R5m6p"
      }
    },
    {
      "cell_type": "markdown",
      "source": [],
      "metadata": {
        "id": "IcsKD63K5nNB"
      }
    },
    {
      "cell_type": "markdown",
      "source": [
        " Problem- 4: Matrix Operations:\n",
        " • For the following arrays:\n",
        " A = np.array([[3,4],[7,8]]) and B = np.array([[5,3],[2,1]]);\n",
        " Prove following with Numpy:\n",
        " 1. Prove A.A−1 = I.\n",
        " 2. Prove AB= BA.\n",
        " 3. Prove (AB)T = BTAT.\n",
        " • Solve the following system of Linear equation using Inverse Methods.\n",
        " 2x −3y+z =−1\n",
        " x −y+2z =−3\n",
        " 3x +y−z =9\n",
        " {Hint: First use Numpy array to represent the equation in Matrix form. Then Solve for: AX = B}\n",
        " • Now: solve the above equation using np.linalg.inv function.{Explore more about ”linalg” func\n",
        "tion of Numpy"
      ],
      "metadata": {
        "id": "gE9-rXqx5nkB"
      }
    },
    {
      "cell_type": "code",
      "source": [
        "import numpy as np\n",
        "A = np.array([[3,4],[7,8]])\n",
        "B = np.array([[5,3],[2,1]])\n",
        "\n",
        "A_inverse =  np.linalg.inv(A)\n",
        "dot_prodeuct = np.dot(A, A_inverse)\n",
        "print(dot_prodeuct)\n"
      ],
      "metadata": {
        "colab": {
          "base_uri": "https://localhost:8080/"
        },
        "id": "tKlbhe0D51mB",
        "outputId": "ea665f45-3743-44f7-8ed9-f1e2cc4b3939"
      },
      "execution_count": null,
      "outputs": [
        {
          "output_type": "stream",
          "name": "stdout",
          "text": [
            "[[1.00000000e+00 0.00000000e+00]\n",
            " [1.77635684e-15 1.00000000e+00]]\n"
          ]
        }
      ]
    },
    {
      "cell_type": "code",
      "source": [
        "AB = np.dot(A, B)\n",
        "BA = np.dot(B, A)\n",
        "print(AB)\n",
        "print(BA)\n",
        "if np.array_equal(AB, BA):\n",
        "  print(\"AB = BA\")\n",
        "else:\n",
        "  print(\"AB != BA\")"
      ],
      "metadata": {
        "colab": {
          "base_uri": "https://localhost:8080/"
        },
        "id": "LgjhKO4o7hCq",
        "outputId": "a7b3cce5-237e-420f-d39c-1eeee5ac905a"
      },
      "execution_count": null,
      "outputs": [
        {
          "output_type": "stream",
          "name": "stdout",
          "text": [
            "[[23 13]\n",
            " [51 29]]\n",
            "[[36 44]\n",
            " [13 16]]\n",
            "AB != BA\n"
          ]
        }
      ]
    },
    {
      "cell_type": "code",
      "source": [
        "import numpy as np\n",
        "# linalg.matrix_transpose(x, /)\n",
        "AB_T = AB.T\n",
        "BA_T = BA.T\n",
        "print(AB_T)\n",
        "print(BA_T)\n",
        "if np.array_equal(AB_T, BA):\n",
        "  print(\"AB_T = BA_T\")\n",
        "else:\n",
        "  print(\"AB_T != BA_T\")\n"
      ],
      "metadata": {
        "colab": {
          "base_uri": "https://localhost:8080/"
        },
        "id": "FzEW1m3T8h1g",
        "outputId": "64f8bfec-f11d-4dc1-cf10-64f906ff6a39"
      },
      "execution_count": null,
      "outputs": [
        {
          "output_type": "stream",
          "name": "stdout",
          "text": [
            "[[23 51]\n",
            " [13 29]]\n",
            "[[36 13]\n",
            " [44 16]]\n",
            "AB_T != BA_T\n"
          ]
        }
      ]
    },
    {
      "cell_type": "code",
      "source": [
        "A = np.array([[2, -3, 1],\n",
        "              [1, -1, 2],\n",
        "              [3, 1, -1]])\n",
        "\n",
        "B = np.array([-1, -3, 9])\n",
        "x = np.linalg.solve(A, B)\n",
        "print(x)"
      ],
      "metadata": {
        "colab": {
          "base_uri": "https://localhost:8080/"
        },
        "id": "P1sJRYGJH5NC",
        "outputId": "326859dd-7070-4720-8c29-5356b109686f"
      },
      "execution_count": null,
      "outputs": [
        {
          "output_type": "stream",
          "name": "stdout",
          "text": [
            "[ 2.  1. -2.]\n"
          ]
        }
      ]
    },
    {
      "cell_type": "markdown",
      "source": [],
      "metadata": {
        "id": "jw_mdVJ8KQ2D"
      }
    },
    {
      "cell_type": "markdown",
      "source": [],
      "metadata": {
        "id": "6tcXpna1KQ51"
      }
    },
    {
      "cell_type": "markdown",
      "source": [],
      "metadata": {
        "id": "zsPIA_yqKQ9E"
      }
    },
    {
      "cell_type": "markdown",
      "source": [],
      "metadata": {
        "id": "K4uyU4sklja9"
      }
    },
    {
      "cell_type": "markdown",
      "source": [],
      "metadata": {
        "id": "zZ3rNLcYljXR"
      }
    },
    {
      "cell_type": "markdown",
      "source": [
        "10.2 Experiment: How Fast is Numpy?\n",
        " In this exercise, you will compare the performance and implementation of operations using plain Python\n",
        " lists (arrays) and NumPy arrays. Follow the instructions:"
      ],
      "metadata": {
        "id": "YcJWgkPHKRAU"
      }
    },
    {
      "cell_type": "markdown",
      "source": [
        "1. Element-wise Addition:\n",
        " • Using Python Lists, perform element-wise addition of two lists of size 1,000,000. Measure\n",
        " and Print the time taken for this operation.\n",
        " • Using Numpy Arrays, Repeat the calculation and measure and print the time taken for\n",
        " this operation."
      ],
      "metadata": {
        "id": "a4PgrmbgloRM"
      }
    },
    {
      "cell_type": "markdown",
      "source": [],
      "metadata": {
        "id": "AfbyWizYlrql"
      }
    },
    {
      "cell_type": "code",
      "source": [
        "import numpy as np\n",
        "import time\n",
        "import random\n",
        "\n",
        "import sys\n",
        "# from pympler.asizeof import asizeof\n",
        "\n",
        "n = 1000000\n",
        "a_list = random.sample(range(1, 1000001), n)\n",
        "b_list = random.sample(range(1, 1000001), n)\n",
        "\n",
        "start_time = time.time()\n",
        "# Use a different variable name, like 'list_sum' to avoid overwriting built-in 'list'\n",
        "list_sum = [x + y for x, y in zip(a_list, b_list)]\n",
        "end_time = time.time()\n",
        "list_time = end_time - start_time\n",
        "\n",
        "print(\"Time taken for list addition:\", list_time)\n",
        "\n",
        "print(\"Meomory used : \", sys.getsizeof(list_sum))"
      ],
      "metadata": {
        "colab": {
          "base_uri": "https://localhost:8080/"
        },
        "id": "hKyNLnH7KT1C",
        "outputId": "429a495a-5887-4013-ea2b-482945bdc9b5"
      },
      "execution_count": null,
      "outputs": [
        {
          "output_type": "stream",
          "name": "stdout",
          "text": [
            "Time taken for list addition: 0.36441922187805176\n",
            "Meomory used :  8448728\n"
          ]
        }
      ]
    },
    {
      "cell_type": "code",
      "source": [
        "import numpy as np\n",
        "import time\n",
        "import random\n",
        "\n",
        "a_list = [random.randint(0, 1000000) for _ in range(1000000)]\n",
        "b_list = [random.randint(0, 1000000) for _ in range(1000000)]\n",
        "\n",
        "\n",
        "start_time = time.time()\n",
        "list_sum = [a + b for a, b in zip(a_list, b_list)]\n",
        "end_time = time.time()\n",
        "list_time = end_time - start_time\n",
        "\n",
        "print(\"Time taken for list addition:\", list_time)\n",
        "\n",
        "print(\"Meomory used : \", sys.getsizeof(list_sum))\n"
      ],
      "metadata": {
        "colab": {
          "base_uri": "https://localhost:8080/"
        },
        "id": "kNnSDU_Uh1-b",
        "outputId": "677a50fe-f66f-4f6d-acfa-60badfa4c14e"
      },
      "execution_count": null,
      "outputs": [
        {
          "output_type": "stream",
          "name": "stdout",
          "text": [
            "Time taken for list addition: 0.0764617919921875\n",
            "Meomory used :  8448728\n"
          ]
        }
      ]
    },
    {
      "cell_type": "code",
      "source": [
        "a_numpy = np.array(a_list)\n",
        "b_numpy = np.array(b_list)\n",
        "\n",
        "start_time = time.time()\n",
        "numpy_sum = np.add(a_numpy, b_numpy)\n",
        "end_time = time.time()\n",
        "numpy_time = end_time - start_time\n",
        "\n",
        "print(\"Time taken for NumPy array addition:\", numpy_time)\n",
        "\n",
        "print(\"Meomory used : \", sys.getsizeof(numpy_sum))\n"
      ],
      "metadata": {
        "colab": {
          "base_uri": "https://localhost:8080/"
        },
        "id": "OmgWB6ObeWyo",
        "outputId": "0046d9ac-8367-4e63-8127-3dc08387d844"
      },
      "execution_count": null,
      "outputs": [
        {
          "output_type": "stream",
          "name": "stdout",
          "text": [
            "Time taken for NumPy array addition: 0.008145332336425781\n",
            "Meomory used :  8000112\n"
          ]
        }
      ]
    },
    {
      "cell_type": "markdown",
      "source": [
        " 2. Element-wise Multiplication\n",
        "\n",
        "\n",
        " • Using Python Lists, perform element-wise multiplication of two lists of size 1,000,000.\n",
        "\n",
        " Measure and Print the time taken for this operation.\n",
        "\n",
        " • Using Numpy Arrays, Repeat the calculation and measure and print the time taken for\n",
        " this operation."
      ],
      "metadata": {
        "id": "wsZOgtLVltit"
      }
    },
    {
      "cell_type": "code",
      "source": [
        "list_sum = [a * b for a, b in zip(a_list, b_list)]\n",
        "start_time = time.time()\n",
        "print(\"Time taken for list multiplication:\", list_time)\n",
        "end_time = time.time()\n",
        "list_time = end_time - start_time\n",
        "print(\"Meomory used : \", sys.getsizeof(list_sum))"
      ],
      "metadata": {
        "colab": {
          "base_uri": "https://localhost:8080/"
        },
        "id": "l9ZcJXFVlw-r",
        "outputId": "df419840-e154-46e8-e038-9789b1665735"
      },
      "execution_count": null,
      "outputs": [
        {
          "output_type": "stream",
          "name": "stdout",
          "text": [
            "Time taken for list multiplication: 0.0764617919921875\n",
            "Meomory used :  8448728\n"
          ]
        }
      ]
    },
    {
      "cell_type": "code",
      "source": [
        "start_time = time.time()\n",
        "numpy_multi = np.multiply(a_numpy, b_numpy)\n",
        "end_time = time.time()\n",
        "numpy_time = end_time - start_time\n",
        "\n",
        "print(\"Time taken for NumPy array addition:\", numpy_time)\n",
        "\n",
        "print(\"Meomory used : \", sys.getsizeof(numpy_multi))"
      ],
      "metadata": {
        "colab": {
          "base_uri": "https://localhost:8080/"
        },
        "id": "hdx042aazPoE",
        "outputId": "4cec3b4c-bf35-4b6e-ce29-8ca633f31af5"
      },
      "execution_count": null,
      "outputs": [
        {
          "output_type": "stream",
          "name": "stdout",
          "text": [
            "Time taken for NumPy array addition: 0.0034155845642089844\n",
            "Meomory used :  8000112\n"
          ]
        }
      ]
    },
    {
      "cell_type": "markdown",
      "source": [],
      "metadata": {
        "id": "qLSi7BvH09DE"
      }
    },
    {
      "cell_type": "markdown",
      "source": [
        " 3. Dot Product\n",
        " • Using Python Lists, compute the dot product of two lists of size 1,000,000. Measure and\n",
        " Print the time taken for this operation.\n",
        " • Using Numpy Arrays, Repeat the calculation and measure and print the time taken for\n",
        " this operation."
      ],
      "metadata": {
        "id": "0PI6qNdFKSVD"
      }
    },
    {
      "cell_type": "code",
      "source": [
        "start_time = time.time()\n",
        "dot_product_list = sum(a * b for a, b in zip(a_list, b_list))\n",
        "\n",
        "end_time = time.time()\n",
        "list_time = end_time - start_time\n",
        "\n",
        "print(\"Time taken for list addition:\", list_time)\n",
        "\n",
        "print(\"Memory used by lists:\", sys.getsizeof(a_list) + sys.getsizeof(b_list), \"bytes\")\n"
      ],
      "metadata": {
        "colab": {
          "base_uri": "https://localhost:8080/"
        },
        "id": "thii8LFmzEjV",
        "outputId": "06de7727-9892-4cb7-ba54-fb1992bdeb6d"
      },
      "execution_count": null,
      "outputs": [
        {
          "output_type": "stream",
          "name": "stdout",
          "text": [
            "Time taken for list addition: 0.08862185478210449\n",
            "Memory used by lists: 16897456 bytes\n"
          ]
        }
      ]
    },
    {
      "cell_type": "code",
      "source": [
        "start_time = time.time()\n",
        "numpy_dot = np.dot(a_numpy, b_numpy)\n",
        "end_time = time.time()\n",
        "numpy_time = end_time - start_time\n",
        "\n",
        "print(\"Time taken for NumPy array addition:\", numpy_dot)\n",
        "\n",
        "print(\"Memory used by NumPy arrays:\", a_numpy.nbytes + b_numpy.nbytes, \"bytes\")\n"
      ],
      "metadata": {
        "colab": {
          "base_uri": "https://localhost:8080/"
        },
        "id": "WcSG2KVE3i1r",
        "outputId": "8d2cd79d-e878-45ad-d426-249fa125a4c3"
      },
      "execution_count": null,
      "outputs": [
        {
          "output_type": "stream",
          "name": "stdout",
          "text": [
            "Time taken for NumPy array addition: 250209216752992263\n",
            "Memory used by NumPy arrays: 16000000 bytes\n"
          ]
        }
      ]
    },
    {
      "cell_type": "markdown",
      "source": [
        "4. Matrix Multiplication\n",
        "\n",
        " • Using Python lists, perform matrix multiplication of two matrices of size 1000x1000. Mea\n",
        "\n",
        "sure and print the time taken for this operation.\n",
        "\n",
        " • Using NumPy arrays, perform matrix multiplication of two matrices of size 1000x1000.\n",
        "\n",
        " Measure and print the time taken for this operation"
      ],
      "metadata": {
        "id": "axVFfFlliHUD"
      }
    },
    {
      "cell_type": "code",
      "source": [
        "import time\n",
        "import numpy as np\n",
        "\n",
        "# Matrix size\n",
        "N = 1000\n",
        "\n",
        "# Generate random matrices\n",
        "A_list = [[i * j for j in range(N)] for i in range(N)]\n",
        "B_list = [[j * i for j in range(N)] for i in range(N)]\n",
        "\n",
        "A_numpy = np.array(A_list)\n",
        "B_numpy = np.array(B_list)\n",
        "\n",
        "# Matrix Multiplication using Python lists\n",
        "def matrix_mult_list(A, B):\n",
        "    result = [[0] * N for _ in range(N)]\n",
        "    for i in range(N):\n",
        "        for j in range(N):\n",
        "            result[i][j] = sum(A[i][k] * B[k][j] for k in range(N))\n",
        "    return result\n",
        "\n",
        "# Measure time for Python lists\n",
        "start_time = time.time()\n",
        "result_list = matrix_mult_list(A_list, B_list)\n",
        "end_time = time.time()\n",
        "list_time = end_time - start_time\n",
        "\n",
        "print(f\"Time taken using Python lists: {list_time:.6f} sec\")\n",
        "\n",
        "# Measure time for NumPy arrays\n",
        "start_time = time.time()\n",
        "result_numpy = np.dot(A_numpy, B_numpy)  # OR: A_numpy @ B_numpy\n",
        "end_time = time.time()\n",
        "numpy_time = end_time - start_time\n",
        "\n",
        "print(f\"Time taken using NumPy: {numpy_time:.6f} sec\")\n"
      ],
      "metadata": {
        "id": "TbNxtUW4iKJS",
        "colab": {
          "base_uri": "https://localhost:8080/"
        },
        "outputId": "d5697091-a78a-435b-95ec-0f490d738e0b"
      },
      "execution_count": 62,
      "outputs": [
        {
          "output_type": "stream",
          "name": "stdout",
          "text": [
            "Time taken using Python lists: 253.558943 sec\n",
            "Time taken using NumPy: 2.103546 sec\n"
          ]
        }
      ]
    }
  ]
}