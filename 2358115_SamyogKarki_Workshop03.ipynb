{
 "cells": [
  {
   "cell_type": "markdown",
   "metadata": {
    "id": "IY-_Zy_b71lD"
   },
   "source": [
    "# Implementation of MCP Neuron for AND and OR Function."
   ]
  },
  {
   "cell_type": "code",
   "execution_count": 17,
   "metadata": {
    "id": "Fu-YDOe_8GJi"
   },
   "outputs": [],
   "source": [
    "def MCP_Neurons_AND(X1, X2, T):\n",
    "  \"\"\"\n",
    "  This functions implements basic AND operations with MCP Neuron for two inputs.\n",
    "  Arguments:\n",
    "  Inputs:\n",
    "  X1 (1 nd array): An array of binary values.\n",
    "  X2 (1 nd array): An array of binary values.\n",
    "  Output:\n",
    "  state_neuron(1D-list): An state of neuron 1 0r 0 for the particular inputs.\n",
    "  \"\"\"\n",
    "  assert len(X1) == len(X2)\n",
    "  ### YOUR CODE HERE ###\n",
    "  sum_array = [x1 + x2 for x1, x2 in zip(X1, X2)]\n",
    "  state_neuron = []\n",
    "    \n",
    "  for s in sum_array:\n",
    "        if s >= T:\n",
    "            state_neuron.append(1)\n",
    "        else:\n",
    "            state_neuron.append(0)\n",
    "  # Perform an element wise addition of two input arrays stored in a new array(list):\n",
    "  # Create a new array to put all the prediction let's name that a state_neuron.\n",
    "  # Append 1 in sate_neuron if sum (element) of above list is above Threshold else append 0.\n",
    "\n",
    "  return state_neuron"
   ]
  },
  {
   "cell_type": "code",
   "execution_count": 18,
   "metadata": {
    "colab": {
     "base_uri": "https://localhost:8080/"
    },
    "id": "e2-lKfat8ocN",
    "outputId": "7b06a952-31d4-49c4-b36c-994bac9f413d"
   },
   "outputs": [
    {
     "name": "stdout",
     "output_type": "stream",
     "text": [
      "Output of AND gate for inputs [0, 0, 1, 1] and [0, 1, 0, 1] with threshold 2: [0, 0, 0, 1]\n"
     ]
    }
   ],
   "source": [
    "# Example usage for MCP_Neurons_AND function\n",
    "X1 = [0, 0, 1, 1]\n",
    "X2 = [0, 1, 0, 1]\n",
    "T = 2  # Threshold value\n",
    "\n",
    "# Call the MCP_Neurons_AND function\n",
    "result = MCP_Neurons_AND(X1, X2, T)\n",
    "\n",
    "# Print the result\n",
    "print(f\"Output of AND gate for inputs {X1} and {X2} with threshold {T}: {result}\")\n"
   ]
  },
  {
   "cell_type": "code",
   "execution_count": 19,
   "metadata": {
    "id": "7xaMXlLT9FHC"
   },
   "outputs": [],
   "source": [
    "def MCP_Neurons_OR(X1, X2, T):\n",
    "    \"\"\"\n",
    "    This function implements basic OR operations with MCP Neuron for two inputs.\n",
    "    Arguments:\n",
    "    Inputs:\n",
    "    X1 (1D array): An array of binary values.\n",
    "    X2 (1D array): An array of binary values.\n",
    "    Output:\n",
    "    state_neuron (1D list): The state of the neuron (1 or 0) for the particular inputs.\n",
    "    \"\"\"\n",
    "    assert len(X1) == len(X2)\n",
    "    ### YOUR CODE HERE ### \n",
    "    \n",
    "    sum_array = [x1 + x2 for x1, x2 in zip(X1, X2)]\n",
    "    state_neuron = []\n",
    "    \n",
    "    for s in sum_array:\n",
    "        if s >= T:\n",
    "            state_neuron.append(1)\n",
    "        else:\n",
    "            state_neuron.append(0)\n",
    "    # Perform an element wise addition of two input arrays stored in a new array(list):\n",
    "    # Create a new array to put all the prediction let's name that a state_neuron.\n",
    "    # Append 1 in sate_neuron if sum (element) of above list is above Threshold else append 0.\n",
    "\n",
    "    return state_neuron\n"
   ]
  },
  {
   "cell_type": "code",
   "execution_count": 20,
   "metadata": {
    "colab": {
     "base_uri": "https://localhost:8080/"
    },
    "id": "6H-YOy268_Jo",
    "outputId": "dacbda9b-185b-46d8-ac5e-eb0287a99ddf"
   },
   "outputs": [
    {
     "name": "stdout",
     "output_type": "stream",
     "text": [
      "Output of OR gate for inputs [0, 0, 1, 1] and [0, 1, 0, 1] with threshold 1: [0, 1, 1, 1]\n"
     ]
    }
   ],
   "source": [
    "# Example usage for MCP_Neurons_OR function\n",
    "X1 = [0, 0, 1, 1]\n",
    "X2 = [0, 1, 0, 1]\n",
    "T = 1  # Threshold value for OR gate\n",
    "\n",
    "# Call the MCP_Neurons_OR function\n",
    "result_or = MCP_Neurons_OR(X1, X2, T)\n",
    "\n",
    "# Print the result\n",
    "print(f\"Output of OR gate for inputs {X1} and {X2} with threshold {T}: {result_or}\")\n"
   ]
  },
  {
   "cell_type": "code",
   "execution_count": null,
   "metadata": {},
   "outputs": [],
   "source": [
    "Question - 1: \n",
    "List out all the limitations of MCP - Neurons.\n",
    "Answer:\n",
    "• A single McCulloch Pitts Neuron can be used to represent boolean functions which are linearly separable.\n",
    "  • Linear separability (for boolean functions) :\n",
    "      • There exists a line (plane) such that\n",
    "         • all inputs which produce a 1 lie on one side of the line (plane)\n",
    "         • and all inputs which produce a 0 lie on other side of the line (plane)\n",
    "• The MCP Neuron Architecture lacks several characteristics of biological networks:\n",
    "   • Complex connectivity patterns i.e. represents single neuron only\n",
    "   • Processing of continuous values\n",
    "   • A measure of importance\n",
    "   • A learning procedure\n",
    "• Regardless of limitation, MCP is considered a significant first step towards development theory of “Mind and\n",
    "  Body” laying the foundations for\n",
    "     • Study of various learning mechanisms and paved the way for advances in artificial intelligence, including\n",
    "       the invention of the perceptron and more complex model."
   ]
  },
  {
   "cell_type": "code",
   "execution_count": null,
   "metadata": {},
   "outputs": [],
   "source": [
    "Question - 2: \n",
    "Think if you can develop a logic to solve for XOR function using MCP Neuron.\n",
    "{Can you devise a if else rules.}\n",
    "Answer: "
   ]
  },
  {
   "cell_type": "markdown",
   "metadata": {
    "id": "Apa9bfLIFJHe"
   },
   "source": [
    "# Implementation for 0 Vs. 1 Classification."
   ]
  },
  {
   "cell_type": "markdown",
   "metadata": {
    "id": "iom83mGLFP_1"
   },
   "source": [
    "## Step 1: Load the Dataset"
   ]
  },
  {
   "cell_type": "code",
   "execution_count": 23,
   "metadata": {
    "colab": {
     "base_uri": "https://localhost:8080/"
    },
    "id": "7rkW58ct9IYq",
    "outputId": "15351fcc-8af8-4741-9486-d8521c2e785a"
   },
   "outputs": [
    {
     "name": "stdout",
     "output_type": "stream",
     "text": [
      "Feature matrix shape: (12665, 784)\n",
      "Label vector shape: (12665,)\n"
     ]
    }
   ],
   "source": [
    "import pandas as pd\n",
    "import numpy as np\n",
    "import matplotlib.pyplot as plt\n",
    "\n",
    "\n",
    "# Load the dataset\n",
    "df_0_1 = pd.read_csv(r\"C:\\Users\\user\\Downloads\\mnist_0_and_1.csv\")  # Add the correct file path if necessary\n",
    "\n",
    "# Extract features and labels\n",
    "X = df_0_1.drop(columns=[\"label\"]).values  # 784 pixels\n",
    "y = df_0_1[\"label\"].values  # Labels (0 or 1)\n",
    "\n",
    "# Check the shape of the features and labels\n",
    "print(\"Feature matrix shape:\", X.shape)\n",
    "print(\"Label vector shape:\", y.shape)\n"
   ]
  },
  {
   "cell_type": "markdown",
   "metadata": {
    "id": "jlq0EY2jHheD"
   },
   "source": [
    "### Viewing the Dataset."
   ]
  },
  {
   "cell_type": "code",
   "execution_count": 24,
   "metadata": {
    "colab": {
     "base_uri": "https://localhost:8080/",
     "height": 451
    },
    "id": "XKY2qjhCHAZ7",
    "outputId": "2bbc962a-b272-4795-a839-f7b96250c52f"
   },
   "outputs": [
    {
     "data": {
      "image/png": "[encoded data removed]",
      "text/plain": [
       "<Figure size 1000x500 with 10 Axes>"
      ]
     },
     "metadata": {},
     "output_type": "display_data"
    }
   ],
   "source": [
    "# Separate images for label 0 and label 1\n",
    "images_0 = X[y == 0]  # Get all images with label 0\n",
    "images_1 = X[y == 1]  # Get all images with label 1\n",
    "\n",
    "fig, axes = plt.subplots(2, 5, figsize=(10, 5))\n",
    "\n",
    "# Check if the arrays have the required amount of data\n",
    "if len(images_0) < 5 or len(images_1) < 5:\n",
    "    print(\"Error: Not enough images in images_0 or images_1 to plot 5 images.\")\n",
    "else:\n",
    "    for i in range(5):\n",
    "        # Plot digit 0\n",
    "        axes[0, i].imshow(images_0[i].reshape(28, 28), cmap=\"gray\")\n",
    "        axes[0, i].set_title(\"Label: 0\")\n",
    "        axes[0, i].axis(\"off\")\n",
    "        # Plot digit 1\n",
    "        axes[1, i].imshow(images_1[i].reshape(28, 28), cmap=\"gray\")\n",
    "        axes[1, i].set_title(\"Label: 1\")\n",
    "        axes[1, i].axis(\"off\")\n",
    "    plt.suptitle(\"First 5 Images of 0 and 1 from MNIST Subset\")\n",
    "    plt.show()"
   ]
  },
  {
   "cell_type": "markdown",
   "metadata": {
    "id": "qyM34tbHIqGi"
   },
   "source": [
    "## Step - 2 - Initializing the Weights:"
   ]
  },
  {
   "cell_type": "code",
   "execution_count": 25,
   "metadata": {
    "id": "SMsXaZ38HfBI"
   },
   "outputs": [],
   "source": [
    "# Initialize weights and bias\n",
    "weights = np.zeros(X.shape[1])  # 784 weights (one for each pixel)\n",
    "bias = 0\n",
    "learning_rate = 0.1\n",
    "epochs = 100"
   ]
  },
  {
   "cell_type": "markdown",
   "metadata": {
    "id": "EvraDxaeRVeo"
   },
   "source": [
    "## Step - 3 - Make a Decision function:"
   ]
  },
  {
   "cell_type": "code",
   "execution_count": 26,
   "metadata": {
    "id": "6uVj75txLWQi"
   },
   "outputs": [],
   "source": [
    "import numpy as np\n",
    "\n",
    "def decision_function(X, weights, bias):\n",
    "    \"\"\"\n",
    "    Compute the predicted labels for the input data.\n",
    "\n",
    "    Parameters:\n",
    "    - X: Features (input data) as a numpy array of shape (n_samples, n_features)\n",
    "    - weights: Updated weights after training\n",
    "    - bias: Updated bias after training\n",
    "\n",
    "    Returns:\n",
    "    - y_pred_all: The predicted labels for the input data\n",
    "    \"\"\"\n",
    "    predictions = np.dot(X, weights) + bias\n",
    "    #####Your Code Here############  # Activation function (step function)\n",
    "    y_pred_all = np.where(predictions >= 0, 1, 0)\n",
    "    \n",
    "    return y_pred_all"
   ]
  },
  {
   "cell_type": "markdown",
   "metadata": {
    "id": "AVZNGyRdI4I4"
   },
   "source": [
    "## Step - 3 - Implement the Perceptron Learning Algorithm"
   ]
  },
  {
   "cell_type": "code",
   "execution_count": 27,
   "metadata": {
    "id": "Dg1ocrycJWpA"
   },
   "outputs": [],
   "source": [
    "def train_perceptron(X, y, weights, bias, learning_rate=0.1, epochs=100):\n",
    "    \"\"\"\n",
    "    Train the perceptron using the Perceptron Learning Algorithm.\n",
    "\n",
    "    Parameters:\n",
    "    - X: Features (input data) as a numpy array of shape (n_samples, n_features)\n",
    "    - y: Labels (true output) as a numpy array of shape (n_samples,)\n",
    "    - weights: Initial weights as a numpy array of shape (n_features,)\n",
    "    - bias: Initial bias value (scalar)\n",
    "    - learning_rate: Learning rate for weight updates (default is 0.1)\n",
    "    - epochs: Number of iterations to train the model (default is 100)\n",
    "\n",
    "    Returns:\n",
    "    - weights: Updated weights after training\n",
    "    - bias: Updated bias after training\n",
    "    - accuracy: Total correct prediction.\n",
    "    \"\"\"\n",
    "    n_samples = X.shape[0]  # Number of samples\n",
    "    \n",
    "    # Step 3: Perceptron Learning Algorithm\n",
    "    # Your Code here#\n",
    "    for _ in range(epochs):  # Loop over epochs\n",
    "        for i in range(n_samples):  # Loop over each sample\n",
    "            # Compute the weighted sum and apply step function\n",
    "            weighted_sum = np.dot(X[i], weights) + bias\n",
    "            y_pred = 1 if weighted_sum >= 0 else 0  # Step function\n",
    "            \n",
    "            # Update weights and bias if prediction is wrong\n",
    "            error = y[i] - y_pred\n",
    "            if error != 0:\n",
    "                weights = weights + learning_rate * error * X[i]\n",
    "                bias = bias + learning_rate * error\n",
    "    \n",
    "    # Compute accuracy after training\n",
    "    predictions = np.dot(X, weights) + bias  # Vectorized prediction for all samples\n",
    "    y_pred_all = np.where(predictions >= 0, 1, 0)  # Apply step function\n",
    "    accuracy = np.mean(y_pred_all == y)  # Fraction of correct predictions\n",
    "\n",
    "\n",
    "    return weights, bias, accuracy"
   ]
  },
  {
   "cell_type": "markdown",
   "metadata": {
    "id": "Va6AGI6iMAG9"
   },
   "source": [
    "## Training the Perceptron"
   ]
  },
  {
   "cell_type": "code",
   "execution_count": 28,
   "metadata": {
    "colab": {
     "base_uri": "https://localhost:8080/"
    },
    "id": "cn8XBYuZLswI",
    "outputId": "68bd509b-6ae3-4347-9bc5-8bc1ea1bcdf2"
   },
   "outputs": [
    {
     "name": "stdout",
     "output_type": "stream",
     "text": [
      "The Final Accuracy is:  1.0\n"
     ]
    }
   ],
   "source": [
    "# After training the model with the perceptron_learning_algorithm\n",
    "weights, bias, accuracy = train_perceptron(X, y, weights, bias)\n",
    "\n",
    "# Evaluate the model using the new function\n",
    "print(\"The Final Accuracy is: \", accuracy)"
   ]
  },
  {
   "cell_type": "markdown",
   "metadata": {
    "id": "-SLq1jbSMKPm"
   },
   "source": [
    "## Step 5: Visualize Misclassified Images"
   ]
  },
  {
   "cell_type": "code",
   "execution_count": 29,
   "metadata": {
    "colab": {
     "base_uri": "https://localhost:8080/"
    },
    "id": "KAMz1RPGMN_A",
    "outputId": "5795b25f-9a63-4815-81bb-f541c046df6f"
   },
   "outputs": [
    {
     "name": "stdout",
     "output_type": "stream",
     "text": [
      "Final Accuracy: 1.0000\n",
      "All images were correctly classified!\n"
     ]
    }
   ],
   "source": [
    "# Get predictions for all data points\n",
    "predictions = np.dot(X, weights) + bias\n",
    "y_pred = np.where(predictions >= 0, 1, 0)\n",
    "\n",
    "# Calculate final accuracy\n",
    "final_accuracy = np.mean(y_pred == y)\n",
    "print(f\"Final Accuracy: {final_accuracy:.4f}\")\n",
    "\n",
    "# Step 5: Visualize Misclassified Images\n",
    "misclassified_idx = np.where(y_pred != y)[0]\n",
    "if len(misclassified_idx) > 0:\n",
    "    fig, axes = plt.subplots(2, 5, figsize=(10, 5))\n",
    "    for ax, idx in zip(axes.flat, misclassified_idx[:10]):  # Show 10 misclassified images\n",
    "        ax.imshow(X[idx].reshape(28, 28), cmap=\"gray\")\n",
    "        ax.set_title(f\"Pred: {y_pred[idx]}, True: {y[idx]}\")\n",
    "        ax.axis(\"off\")\n",
    "    plt.suptitle(\"Misclassified Images\")\n",
    "    plt.show()\n",
    "else:\n",
    "    print(\"All images were correctly classified!\")"
   ]
  }
 ],
 "metadata": {
  "colab": {
   "provenance": []
  },
  "kernelspec": {
   "display_name": "Python 3 (ipykernel)",
   "language": "python",
   "name": "python3"
  },
  "language_info": {
   "codemirror_mode": {
    "name": "ipython",
    "version": 3
   },
   "file_extension": ".py",
   "mimetype": "text/x-python",
   "name": "python",
   "nbconvert_exporter": "python",
   "pygments_lexer": "ipython3",
   "version": "3.13.2"
  }
 },
 "nbformat": 4,
 "nbformat_minor": 4
}
